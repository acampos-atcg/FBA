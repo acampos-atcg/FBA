{
 "metadata": {
  "name": "",
  "signature": "sha256:2d07eed0d2b7d59a8a4122fe75664776d847be316cab54c34e77db9f982e9c32"
 },
 "nbformat": 3,
 "nbformat_minor": 0,
 "worksheets": [
  {
   "cells": [
    {
     "cell_type": "code",
     "collapsed": false,
     "input": [
      "import escher\n",
      "import escher.urls\n",
      "import cobra\n",
      "import cobra.test\n",
      "import json\n",
      "import os\n",
      "from IPython.display import HTML\n",
      "import matplotlib.pyplot as plt\n",
      "import numpy as np"
     ],
     "language": "python",
     "metadata": {},
     "outputs": [],
     "prompt_number": 1
    },
    {
     "cell_type": "heading",
     "level": 1,
     "metadata": {},
     "source": [
      "Optimizacion default"
     ]
    },
    {
     "cell_type": "code",
     "collapsed": false,
     "input": [
      "model = cobra.io.read_sbml_model('Ec_core_flux1.xml')\n",
      "solution=model.optimize()\n",
      "b = escher.Builder(map_name='iJO1366.Central metabolism',\n",
      "                   reaction_data=solution.x_dict,\n",
      "                   # color and size according to the absolute value\n",
      "                   reaction_styles=['color', 'size', 'abs', 'text'],\n",
      "                   # change the default colors\n",
      "                   reaction_scale=[{'type': 'min', 'color': '#cccccc', 'size': 4},\n",
      "                                   {'type': 'mean', 'color': '#0000dd', 'size': 20},\n",
      "                                   {'type': 'max', 'color': '#ff0000', 'size': 40}],\n",
      "                   # only show the primary metabolites\n",
      "                   hide_secondary_metabolites=True)\n",
      "b.display_in_notebook()"
     ],
     "language": "python",
     "metadata": {},
     "outputs": []
    }
   ],
   "metadata": {}
  }
 ]
}